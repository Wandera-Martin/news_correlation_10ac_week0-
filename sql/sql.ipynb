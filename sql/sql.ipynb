{
 "cells": [
  {
   "cell_type": "code",
   "execution_count": null,
   "metadata": {
    "vscode": {
     "languageId": "sql"
    }
   },
   "outputs": [],
   "source": [
    "CREATE TABLE articles (\n",
    "    article_id SERIAL PRIMARY KEY,\n",
    "    title TEXT NOT NULL,\n",
    "    content TEXT NOT NULL,\n",
    "    category TEXT NOT NULL,\n",
    "    keywords TEXT[],\n",
    "    sentiment FLOAT,\n",
    "    published_at TIMESTAMP,\n",
    "    event_id INTEGER\n",
    ");\n",
    "\n",
    "CREATE TABLE events (\n",
    "    event_id SERIAL PRIMARY KEY,\n",
    "    event_name TEXT NOT NULL,\n",
    "    event_date DATE\n",
    ");\n"
   ]
  },
  {
   "cell_type": "code",
   "execution_count": null,
   "metadata": {},
   "outputs": [],
   "source": [
    "import psycopg2\n",
    "\n",
    "# Connect to the PostgreSQL database\n",
    "conn = psycopg2.connect(\n",
    "    dbname=\"your_database\",\n",
    "    user=\"your_username\",\n",
    "    password=\"your_password\",\n",
    "    host=\"localhost\"\n",
    ")\n",
    "cur = conn.cursor()\n",
    "\n",
    "# Create the articles table\n",
    "cur.execute(\"\"\"\n",
    "CREATE TABLE articles (\n",
    "    article_id SERIAL PRIMARY KEY,\n",
    "    title TEXT NOT NULL,\n",
    "    content TEXT NOT NULL,\n",
    "    category TEXT NOT NULL,\n",
    "    keywords TEXT[],\n",
    "    sentiment FLOAT,\n",
    "    published_at TIMESTAMP,\n",
    "    event_id INTEGER\n",
    ")\n",
    "\"\"\")\n",
    "\n",
    "# Create the events table\n",
    "cur.execute(\"\"\"\n",
    "CREATE TABLE events (\n",
    "    event_id SERIAL PRIMARY KEY,\n",
    "    event_name TEXT NOT NULL,\n",
    "    event_date DATE\n",
    ")\n",
    "\"\"\")\n",
    "\n",
    "# Commit the changes\n",
    "conn.commit()\n",
    "\n",
    "# Close the cursor and connection\n",
    "cur.close()\n",
    "conn.close()\n"
   ]
  }
 ],
 "metadata": {
  "kernelspec": {
   "display_name": "myenv",
   "language": "python",
   "name": "python3"
  },
  "language_info": {
   "codemirror_mode": {
    "name": "ipython",
    "version": 3
   },
   "file_extension": ".py",
   "mimetype": "text/x-python",
   "name": "python",
   "nbconvert_exporter": "python",
   "pygments_lexer": "ipython3",
   "version": "3.11.7"
  }
 },
 "nbformat": 4,
 "nbformat_minor": 2
}
