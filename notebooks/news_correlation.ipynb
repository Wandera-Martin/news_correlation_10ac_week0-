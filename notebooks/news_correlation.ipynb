{
 "cells": [
  {
   "cell_type": "markdown",
   "metadata": {},
   "source": [
    "PART II"
   ]
  },
  {
   "cell_type": "code",
   "execution_count": 4,
   "metadata": {},
   "outputs": [],
   "source": [
    "import  pandas as pd\n",
    "import numpy as np\n",
    "import matplotlib.pyplot as plt\n",
    "import seaborn as sns\n",
    "import spacy\n",
    "from collections import Counter\n",
    "from spacy.lang.en import English "
   ]
  },
  {
   "cell_type": "code",
   "execution_count": 6,
   "metadata": {},
   "outputs": [],
   "source": [
    "# Load the DataFrames\n",
    "traffic_df = pd.read_csv('/Users/user/Desktop/martin_1/archive/traffic.csv')\n",
    "data_df = pd.read_csv('/Users/user/Desktop/martin_1/archive/rating.csv')\n",
    "domains_df = pd.read_csv('/Users/user/Desktop/martin_1/archive/domains_location.csv')\n",
    "d_df = pd.read_csv('/Users/user/Desktop/martin_1/archive/data.csv')\n",
    "\n"
   ]
  },
  {
   "cell_type": "code",
   "execution_count": null,
   "metadata": {},
   "outputs": [],
   "source": [
    "\n",
    "# Step 1: Top and bottom 10 websites with the largest count of news articles\n",
    "top_10_websites = data_df['source_name'].value_counts().nlargest(10)\n",
    "bottom_10_websites = data_df['source_name'].value_counts().nsmallest(10)\n",
    "\n",
    "# Step 2: Websites with the highest numbers of visitor traffic\n",
    "traffic_df = domains_df.groupby('source_name')['traffic'].sum().sort_values(ascending=False)\n",
    "\n",
    "# Step 3: Countries with the highest number of news media organizations\n",
    "countries_news_org = domains_df['country'].value_counts()\n",
    "\n",
    "# Step 4: Countries with many articles written about them\n",
    "articles_per_country = data_df['country'].value_counts()\n",
    "\n",
    "# Step 5: Websites that reported news about specific regions\n",
    "region_websites = {\n",
    "    'Africa': ['Africa'],\n",
    "    'US': ['United States'],\n",
    "    'China': ['China'],\n",
    "    'EU': ['European Union', 'European Commission'],\n",
    "    'Russia': ['Russia'],\n",
    "    'Ukraine': ['Ukraine'],\n",
    "    'Middle East': ['Middle East', 'Middle Eastern']\n",
    "}\n",
    "\n",
    "region_counts = {}\n",
    "for region, countries in region_websites.items():\n",
    "    region_counts[region] = data_df[data_df['country'].isin(countries)]['source_name'].nunique()\n",
    "\n",
    "# Step 6: Websites with the highest count of positive, neutral, and negative sentiment\n",
    "sentiment_counts = data_df.groupby('source_name')['sentiment'].value_counts().unstack(fill_value=0)\n",
    "sentiment_counts['Total'] = sentiment_counts.sum(axis=1)\n",
    "\n",
    "# Step 7: Compare the impact of using mean/average and median\n",
    "sentiment_summary = data_df.groupby('source_name')['sentiment'].agg(['mean', 'median'])\n",
    "\n",
    "# Step 8: Distribution of sentiments for top 10 domains by visitor traffic\n",
    "top_10_traffic_domains = traffic_df.head(10).index\n",
    "top_10_sentiment_distribution = data_df[data_df['source_name'].isin(top_10_traffic_domains)]['sentiment'].value_counts(normalize=True)\n",
    "\n",
    "# Visualization\n",
    "plt.figure(figsize=(10, 6))\n",
    "sns.barplot(x=top_10_websites.values, y=top_10_websites.index)\n",
    "plt.title('Top 10 Websites with Largest Count of News Articles')\n",
    "plt.xlabel('Number of Articles')\n",
    "plt.ylabel('Website')\n",
    "plt.show()\n",
    "\n",
    "plt.figure(figsize=(10, 6))\n",
    "sns.barplot(x=traffic_df.head(10).values, y=traffic_df.head(10).index)\n",
    "plt.title('Websites with Highest Visitor Traffic')\n",
    "plt.xlabel('Visitor Traffic')\n",
    "plt.ylabel('Website')\n",
    "plt.show()\n",
    "\n",
    "plt.figure(figsize=(10, 6))\n",
    "countries_news_org.plot(kind='bar')\n",
    "plt.title('Countries with Highest Number of News Media Organizations')\n",
    "plt.xlabel('Country')\n",
    "plt.ylabel('Number of News Media Organizations')\n",
    "plt.show()\n",
    "\n",
    "plt.figure(figsize=(10, 6))\n",
    "articles_per_country.plot(kind='bar')\n",
    "plt.title('Countries with Many Articles Written About Them')\n",
    "plt.xlabel('Country')\n",
    "plt.ylabel('Number of Articles')\n",
    "plt.show()\n",
    "\n",
    "plt.figure(figsize=(10, 6))\n",
    "sns.barplot(x=list(region_counts.values()), y=list(region_counts.keys()))\n",
    "plt.title('Websites Reporting News About Specific Regions')\n",
    "plt.xlabel('Number of Websites')\n",
    "plt.ylabel('Region')\n",
    "plt.show()\n",
    "\n",
    "sentiment_counts.plot(kind='bar', stacked=True, figsize=(12, 6))\n",
    "plt.title('Sentiment Distribution by Website')\n",
    "plt.xlabel('Website')\n",
    "plt.ylabel('Count')\n",
    "plt.legend(title='Sentiment')\n",
    "plt.show()\n",
    "\n",
    "sentiment_summary.plot(kind='bar', figsize=(12, 6))\n",
    "plt.title('Comparison of Mean and Median Sentiment')\n",
    "plt.xlabel('Website')\n",
    "plt.ylabel('Sentiment')\n",
    "plt.legend(title='Statistic')\n",
    "plt.show()\n",
    "\n",
    "top_10_sentiment_distribution.plot(kind='bar', figsize=(10, 6))\n",
    "plt.title('Sentiment Distribution for Top 10 Traffic Domains')\n",
    "plt.xlabel('Sentiment')\n",
    "plt.ylabel('Proportion')\n",
    "plt.show()"
   ]
  },
  {
   "cell_type": "code",
   "execution_count": null,
   "metadata": {},
   "outputs": [],
   "source": [
    "#Top and bottom 10 websites with the largest count of news articles\n",
    "top_10_websites = data_df['source_name'].value_counts().nlargest(10)\n",
    "plt.figure(figsize=(10, 6))\n",
    "sns.barplot(x=top_10_websites.values, y=top_10_websites.index)\n",
    "plt.title('Top 10 Websites with Largest Count of News Articles')\n",
    "plt.xlabel('Number of Articles')\n",
    "plt.ylabel('Website')\n",
    "plt.show()"
   ]
  },
  {
   "cell_type": "code",
   "execution_count": null,
   "metadata": {},
   "outputs": [],
   "source": [
    "data_df.info()"
   ]
  },
  {
   "cell_type": "code",
   "execution_count": null,
   "metadata": {},
   "outputs": [],
   "source": [
    "# bottom 10 websites with the largest count of news articles\n",
    "bottom_10_websites = data_df['source_name'].value_counts().nsmallest(10)\n",
    "plt.figure(figsize=(10, 6))\n",
    "plt.subplot(1, 2, 2)\n",
    "sns.barplot(x=bottom_10_websites.values, y=bottom_10_websites.index,palette='Blues',legend=False)\n",
    "plt.title('Top 10 Websites with Smallest Count of News Articles')\n",
    "plt.xlabel('Number of Articles')\n",
    "plt.ylabel('Website')\n",
    "plt.show()"
   ]
  },
  {
   "cell_type": "code",
   "execution_count": null,
   "metadata": {},
   "outputs": [],
   "source": [
    "# bottom 10 websites with the largest count of news articles\n",
    "website_count=data_df['source_name'].value_counts().reset_index()\n",
    "website_count.columns=[\"source_name\",\"article_count\"]\n",
    "\n",
    "bottom_10=website_count.sort_values(by='article_count',ascending=False ).tail(10)\n",
    "print(bottom_10[['source_name','article_count']])"
   ]
  },
  {
   "cell_type": "code",
   "execution_count": null,
   "metadata": {},
   "outputs": [],
   "source": [
    "plt.subplot(1, 2, 2)\n",
    "sns.barplot(x='article_count', y='source_name',  data=bottom_10, palette='Blues', hue='source_name' ,legend=False)\n",
    "plt.title('Bottom 10 websites with smallest count of news articles')\n",
    "plt.xlabel('Number of artciles')\n",
    "plt.ylabel('Website')\n",
    "\n",
    "plt.tight_layout()\n",
    "plt.show()"
   ]
  },
  {
   "cell_type": "code",
   "execution_count": null,
   "metadata": {},
   "outputs": [],
   "source": [
    "traffic_df.dropna(subset=['Domain', 'GlobalRank'], inplace=True)\n",
    "\n",
    "top_traffic_websites = traffic_df.sort_values(by='GlobalRank').head(10)\n",
    "\n",
    "print(top_traffic_websites[['Domain', 'GlobalRank']])"
   ]
  },
  {
   "cell_type": "code",
   "execution_count": null,
   "metadata": {},
   "outputs": [],
   "source": [
    "plt.figure(figsize=(10, 6))\n",
    "sns.barplot(x='GlobalRank', y='Domain', data=top_traffic_websites, palette='Blues_d')\n",
    "\n",
    "plt.xlabel('Global Rank')\n",
    "plt.ylabel('Website')\n",
    "plt.title('Top 10 Websites with the Highest Traffic')\n",
    "plt.show()"
   ]
  },
  {
   "cell_type": "code",
   "execution_count": null,
   "metadata": {},
   "outputs": [],
   "source": [
    "#Countries with the highest number of news media organisations (represented by domains in the data)\n",
    "\n",
    "domains_df.dropna(subset=['Country', 'SourceCommonName'], inplace=True)\n",
    "country_counts = domains_df['Country'].value_counts()\n",
    "top_countries = country_counts.head(10)\n",
    "\n",
    "# Plotting\n",
    "plt.figure(figsize=(10, 6))\n",
    "top_countries.plot(kind='bar', color='red')\n",
    "plt.xlabel('Country')\n",
    "plt.ylabel('Number of News Media Organizations')\n",
    "plt.title('Top Countries with the Highest Number of News Media Organizations')\n",
    "plt.xticks(rotation=45, ha='right')\n",
    "plt.tight_layout()\n",
    "plt.show()"
   ]
  },
  {
   "cell_type": "code",
   "execution_count": null,
   "metadata": {},
   "outputs": [],
   "source": [
    "# Filter articles to include only those that mention countries\n",
    "articles_with_countries = domains_df.dropna(subset=['Country'])\n"
   ]
  },
  {
   "cell_type": "code",
   "execution_count": null,
   "metadata": {},
   "outputs": [],
   "source": [
    "# Split the 'countries' column into a list of countries\n",
    "articles_with_countries['Country'] = articles_with_countries['Country'].apply(lambda x: x.split(','))"
   ]
  },
  {
   "cell_type": "code",
   "execution_count": null,
   "metadata": {},
   "outputs": [],
   "source": [
    "# Create a list of all mentioned countries\n",
    "all_countries = [country.strip() for sublist in articles_with_countries['Country'] for country in sublist]"
   ]
  },
  {
   "cell_type": "code",
   "execution_count": null,
   "metadata": {},
   "outputs": [],
   "source": [
    "# Count the occurrences of each country\n",
    "country_counts = pd.Series(all_countries).value_counts()"
   ]
  },
  {
   "cell_type": "code",
   "execution_count": null,
   "metadata": {},
   "outputs": [],
   "source": [
    "# Plotting\n",
    "plt.figure(figsize=(10, 6))\n",
    "country_counts.head(10).plot(kind='bar', color='skyblue')  # Plot top 10 countries\n",
    "plt.xlabel('Country')\n",
    "plt.ylabel('Number of Articles')\n",
    "plt.title('Countries with the Highest Number of Articles Mentioning Them')\n",
    "plt.xticks(rotation=45, ha='right')\n",
    "plt.tight_layout()\n",
    "plt.show()"
   ]
  },
  {
   "cell_type": "code",
   "execution_count": null,
   "metadata": {},
   "outputs": [],
   "source": [
    "data_df.columns"
   ]
  },
  {
   "cell_type": "code",
   "execution_count": null,
   "metadata": {},
   "outputs": [],
   "source": [
    "\n",
    "# Define dictionaries mapping countries to their respective regions\n",
    "african_countries = ['Algeria', 'Angola', 'Benin', 'Botswana', 'Burkina Faso', 'Burundi', 'Cabo Verde', 'Cameroon', 'Central African Republic', 'Chad', 'Comoros', 'Democratic Republic of the Congo', 'Djibouti', 'Egypt', 'Equatorial Guinea', 'Eritrea', 'Eswatini', 'Ethiopia', 'Gabon', 'Gambia', 'Ghana', 'Guinea', 'Guinea-Bissau', 'Ivory Coast', 'Kenya', 'Lesotho', 'Liberia', 'Libya', 'Madagascar', 'Malawi', 'Mali', 'Mauritania', 'Mauritius', 'Morocco', 'Mozambique', 'Namibia', 'Niger', 'Nigeria', 'Republic of the Congo', 'Rwanda', 'Sao Tome and Principe', 'Senegal', 'Seychelles', 'Sierra Leone', 'Somalia', 'South Africa', 'South Sudan', 'Sudan', 'Tanzania', 'Togo', 'Tunisia', 'Uganda', 'Zambia', 'Zimbabwe']\n",
    "eu_countries = ['Austria', 'Belgium', 'Bulgaria', 'Croatia', 'Cyprus', 'Czech Republic', 'Denmark', 'Estonia', 'Finland', 'France', 'Germany', 'Greece', 'Hungary', 'Ireland', 'Italy', 'Latvia', 'Lithuania', 'Luxembourg', 'Malta', 'Netherlands', 'Poland', 'Portugal', 'Romania', 'Slovakia', 'Slovenia', 'Spain', 'Sweden']\n",
    "middle_east_countries = ['Bahrain', 'Iran', 'Iraq', 'Israel', 'Jordan', 'Kuwait', 'Lebanon', 'Oman', 'Palestine', 'Qatar', 'Saudi Arabia', 'Syria', 'Turkey', 'United Arab Emirates', 'Yemen']\n",
    "us_countries = ['United States', 'USA', 'U.S.']\n",
    "china_countries = ['China']\n",
    "\n",
    "# Combine the regions and their respective countries into a dictionary\n",
    "region_countries_dict = {\n",
    "    'Africa': african_countries,\n",
    "    'EU': eu_countries,\n",
    "    'Middle East': middle_east_countries,\n",
    "    'US': us_countries,\n",
    "    'China': china_countries\n",
    "}\n",
    "\n",
    "# Filter articles containing mentions of the specified regions\n",
    "articles_about_regions = data_df[data_df['content'].str.contains('|'.join(sum(region_countries_dict.values(), [])))]\n",
    "\n",
    "# Get the websites that reported news content about the specified regions\n",
    "websites_reporting_about_regions = articles_about_regions['source_name'].unique()\n",
    "\n",
    "print(\"Websites reporting news content about the specified regions:\")\n",
    "print(websites_reporting_about_regions)\n"
   ]
  },
  {
   "cell_type": "code",
   "execution_count": null,
   "metadata": {},
   "outputs": [],
   "source": [
    "\n",
    "\n",
    "# Define dictionaries mapping countries to their respective regions\n",
    "african_countries = ['Algeria', 'Angola', 'Benin', 'Botswana', 'Burkina Faso', 'Burundi', 'Cabo Verde', 'Cameroon', 'Central African Republic', 'Chad', 'Comoros', 'Democratic Republic of the Congo', 'Djibouti', 'Egypt', 'Equatorial Guinea', 'Eritrea', 'Eswatini', 'Ethiopia', 'Gabon', 'Gambia', 'Ghana', 'Guinea', 'Guinea-Bissau', 'Ivory Coast', 'Kenya', 'Lesotho', 'Liberia', 'Libya', 'Madagascar', 'Malawi', 'Mali', 'Mauritania', 'Mauritius', 'Morocco', 'Mozambique', 'Namibia', 'Niger', 'Nigeria', 'Republic of the Congo', 'Rwanda', 'Sao Tome and Principe', 'Senegal', 'Seychelles', 'Sierra Leone', 'Somalia', 'South Africa', 'South Sudan', 'Sudan', 'Tanzania', 'Togo', 'Tunisia', 'Uganda', 'Zambia', 'Zimbabwe']\n",
    "eu_countries = ['Austria', 'Belgium', 'Bulgaria', 'Croatia', 'Cyprus', 'Czech Republic', 'Denmark', 'Estonia', 'Finland', 'France', 'Germany', 'Greece', 'Hungary', 'Ireland', 'Italy', 'Latvia', 'Lithuania', 'Luxembourg', 'Malta', 'Netherlands', 'Poland', 'Portugal', 'Romania', 'Slovakia', 'Slovenia', 'Spain', 'Sweden']\n",
    "middle_east_countries = ['Bahrain', 'Iran', 'Iraq', 'Israel', 'Jordan', 'Kuwait', 'Lebanon', 'Oman', 'Palestine', 'Qatar', 'Saudi Arabia', 'Syria', 'Turkey', 'United Arab Emirates', 'Yemen']\n",
    "us_countries = ['United States', 'USA', 'U.S.']\n",
    "china_countries = ['China']\n",
    "\n",
    "# Combine the regions and their respective countries into a dictionary\n",
    "region_countries_dict = {\n",
    "    'Africa': african_countries,\n",
    "    'EU': eu_countries,\n",
    "    'Middle East': middle_east_countries,\n",
    "    'US': us_countries,\n",
    "    'China': china_countries\n",
    "}\n",
    "\n",
    "# Filter articles containing mentions of the specified regions\n",
    "articles_about_regions = data_df[data_df['content'].str.contains('|'.join(sum(region_countries_dict.values(), [])))]\n",
    "\n",
    "# Get the source names that reported news content about the specified regions\n",
    "sources_reporting_about_regions = articles_about_regions['source_name']\n",
    "\n",
    "# Count the occurrences of each source\n",
    "source_counts = sources_reporting_about_regions.value_counts()\n",
    "\n",
    "# Plotting\n",
    "plt.figure(figsize=(10, 6))\n",
    "source_counts.head(10).plot(kind='bar', color='skyblue')  # Plot top 10 sources\n",
    "plt.xlabel('Source Name')\n",
    "plt.ylabel('Number of Articles')\n",
    "plt.title('Top Sources Reporting News Content about Specified Regions')\n",
    "plt.xticks(rotation=45, ha='right')\n",
    "plt.tight_layout()\n",
    "plt.show()\n"
   ]
  },
  {
   "cell_type": "code",
   "execution_count": 86,
   "metadata": {},
   "outputs": [
    {
     "data": {
      "text/plain": [
       "Index(['SourceCommonName', 'location', 'Country'], dtype='object')"
      ]
     },
     "execution_count": 86,
     "metadata": {},
     "output_type": "execute_result"
    }
   ],
   "source": [
    "domains_df.columns\n"
   ]
  },
  {
   "cell_type": "code",
   "execution_count": 88,
   "metadata": {},
   "outputs": [
    {
     "data": {
      "text/plain": [
       "Index(['GlobalRank', 'TldRank', 'Domain', 'TLD', 'RefSubNets', 'RefIPs',\n",
       "       'IDN_Domain', 'IDN_TLD', 'PrevGlobalRank', 'PrevTldRank',\n",
       "       'PrevRefSubNets', 'PrevRefIPs'],\n",
       "      dtype='object')"
      ]
     },
     "execution_count": 88,
     "metadata": {},
     "output_type": "execute_result"
    }
   ],
   "source": [
    "traffic_df.columns"
   ]
  },
  {
   "cell_type": "code",
   "execution_count": 89,
   "metadata": {},
   "outputs": [
    {
     "data": {
      "text/plain": [
       "Index(['article_id', 'source_id', 'source_name', 'author', 'title',\n",
       "       'description', 'url', 'url_to_image', 'published_at', 'content',\n",
       "       'category', 'article', 'title_sentiment'],\n",
       "      dtype='object')"
      ]
     },
     "execution_count": 89,
     "metadata": {},
     "output_type": "execute_result"
    }
   ],
   "source": [
    "data_df.columns"
   ]
  },
  {
   "cell_type": "code",
   "execution_count": 100,
   "metadata": {},
   "outputs": [
    {
     "name": "stdout",
     "output_type": "stream",
     "text": [
      "object\n"
     ]
    }
   ],
   "source": [
    "print(data_df['title_sentiment'].dtype)"
   ]
  },
  {
   "cell_type": "code",
   "execution_count": 101,
   "metadata": {},
   "outputs": [],
   "source": [
    "data_df['title_sentiment'] = pd.to_numeric(data_df['title_sentiment'], errors='coerce')  # Coerce errors to NaN\n"
   ]
  },
  {
   "cell_type": "code",
   "execution_count": 102,
   "metadata": {},
   "outputs": [],
   "source": [
    "website_sentiment = data_df.groupby('source_name')['title_sentiment'].agg(['mean', 'median', 'var']).reset_index()\n"
   ]
  },
  {
   "cell_type": "code",
   "execution_count": 103,
   "metadata": {},
   "outputs": [
    {
     "name": "stdout",
     "output_type": "stream",
     "text": [
      "Website Sentiment Statistics (Mean, Median, Variance):\n",
      "                     source_name  mean  median  var\n",
      "0                       ABC News   NaN     NaN  NaN\n",
      "1             Al Jazeera English   NaN     NaN  NaN\n",
      "2    AllAfrica - Top Africa News   NaN     NaN  NaN\n",
      "3                Android Central   NaN     NaN  NaN\n",
      "4                       BBC News   NaN     NaN  NaN\n",
      "5                    Boing Boing   NaN     NaN  NaN\n",
      "6               Business Insider   NaN     NaN  NaN\n",
      "7                            CNA   NaN     NaN  NaN\n",
      "8                            CNN   NaN     NaN  NaN\n",
      "9                       Deadline   NaN     NaN  NaN\n",
      "10                Digital Trends   NaN     NaN  NaN\n",
      "11                ETF Daily News   NaN     NaN  NaN\n",
      "12                      Euronews   NaN     NaN  NaN\n",
      "13                        Forbes   NaN     NaN  NaN\n",
      "14                   Gizmodo.com   NaN     NaN  NaN\n",
      "15            Globalsecurity.org   NaN     NaN  NaN\n",
      "16                 GlobeNewswire   NaN     NaN  NaN\n",
      "17  International Business Times   NaN     NaN  NaN\n",
      "18            Marketscreener.com   NaN     NaN  NaN\n",
      "19                           NPR   NaN     NaN  NaN\n",
      "20                      Phys.Org   NaN     NaN  NaN\n",
      "21                            RT   NaN     NaN  NaN\n",
      "22                     ReadWrite   NaN     NaN  NaN\n",
      "23            The Indian Express   NaN     NaN  NaN\n",
      "24                     The Punch   NaN     NaN  NaN\n",
      "25            The Times of India   NaN     NaN  NaN\n",
      "26                     The Verge   NaN     NaN  NaN\n",
      "27                          Time   NaN     NaN  NaN\n",
      "28                         Wired   NaN     NaN  NaN\n"
     ]
    }
   ],
   "source": [
    "# Print results (showing websites with high/low sentiment can be achieved through sorting)\n",
    "print(\"Website Sentiment Statistics (Mean, Median, Variance):\")\n",
    "print(website_sentiment.to_string(index=True))"
   ]
  },
  {
   "cell_type": "code",
   "execution_count": 104,
   "metadata": {},
   "outputs": [],
   "source": [
    "# Sort websites by sentiment metric (e.g., mean sentiment)\n",
    "website_sentiment_sorted_mean = website_sentiment.sort_values(by='mean', ascending=False)  # Sort by descending mean"
   ]
  },
  {
   "cell_type": "code",
   "execution_count": 105,
   "metadata": {},
   "outputs": [
    {
     "name": "stdout",
     "output_type": "stream",
     "text": [
      "\n",
      "Top 5 Websites by Mean Sentiment (Descending):\n",
      "                   source_name  mean  median  var\n",
      "0                     ABC News   NaN     NaN  NaN\n",
      "1           Al Jazeera English   NaN     NaN  NaN\n",
      "2  AllAfrica - Top Africa News   NaN     NaN  NaN\n",
      "3              Android Central   NaN     NaN  NaN\n",
      "4                     BBC News   NaN     NaN  NaN\n",
      "\n",
      "Bottom 5 Websites by Mean Sentiment (Ascending):\n",
      "           source_name  mean  median  var\n",
      "24           The Punch   NaN     NaN  NaN\n",
      "25  The Times of India   NaN     NaN  NaN\n",
      "26           The Verge   NaN     NaN  NaN\n",
      "27                Time   NaN     NaN  NaN\n",
      "28               Wired   NaN     NaN  NaN\n"
     ]
    }
   ],
   "source": [
    "\n",
    "# Print top/bottom 5 websites by mean sentiment (modify as needed)\n",
    "print(\"\\nTop 5 Websites by Mean Sentiment (Descending):\")\n",
    "print(website_sentiment_sorted_mean.head(5))\n",
    "\n",
    "print(\"\\nBottom 5 Websites by Mean Sentiment (Ascending):\")\n",
    "print(website_sentiment_sorted_mean.tail(5))"
   ]
  },
  {
   "cell_type": "code",
   "execution_count": 5,
   "metadata": {},
   "outputs": [
    {
     "ename": "NameError",
     "evalue": "name 'data_df' is not defined",
     "output_type": "error",
     "traceback": [
      "\u001b[0;31m---------------------------------------------------------------------------\u001b[0m",
      "\u001b[0;31mNameError\u001b[0m                                 Traceback (most recent call last)",
      "Cell \u001b[0;32mIn[5], line 4\u001b[0m\n\u001b[1;32m      1\u001b[0m \u001b[38;5;66;03m# Load data (assuming 'source_name' is website domain and 'title_sentiment' is sentiment score)\u001b[39;00m\n\u001b[1;32m      2\u001b[0m \n\u001b[1;32m      3\u001b[0m \u001b[38;5;66;03m# Group by website and calculate descriptive statistics for sentiment\u001b[39;00m\n\u001b[0;32m----> 4\u001b[0m website_sentiment \u001b[38;5;241m=\u001b[39m \u001b[43mdata_df\u001b[49m\u001b[38;5;241m.\u001b[39mgroupby(\u001b[38;5;124m'\u001b[39m\u001b[38;5;124msource_name\u001b[39m\u001b[38;5;124m'\u001b[39m)[\u001b[38;5;124m'\u001b[39m\u001b[38;5;124mtitle_sentiment\u001b[39m\u001b[38;5;124m'\u001b[39m]\u001b[38;5;241m.\u001b[39magg([\u001b[38;5;124m'\u001b[39m\u001b[38;5;124mmean\u001b[39m\u001b[38;5;124m'\u001b[39m, \u001b[38;5;124m'\u001b[39m\u001b[38;5;124mmedian\u001b[39m\u001b[38;5;124m'\u001b[39m, \u001b[38;5;124m'\u001b[39m\u001b[38;5;124mvar\u001b[39m\u001b[38;5;124m'\u001b[39m])\u001b[38;5;241m.\u001b[39mreset_index()\n\u001b[1;32m      6\u001b[0m \u001b[38;5;66;03m# Print results (showing websites with high/low sentiment can be achieved through sorting)\u001b[39;00m\n\u001b[1;32m      7\u001b[0m \u001b[38;5;28mprint\u001b[39m(\u001b[38;5;124m\"\u001b[39m\u001b[38;5;124mWebsite Sentiment Statistics (Mean, Median, Variance):\u001b[39m\u001b[38;5;124m\"\u001b[39m)\n",
      "\u001b[0;31mNameError\u001b[0m: name 'data_df' is not defined"
     ]
    }
   ],
   "source": [
    "\n",
    "\n",
    "# Load data (assuming 'source_name' is website domain and 'title_sentiment' is sentiment score)\n",
    "\n",
    "# Group by website and calculate descriptive statistics for sentiment\n",
    "website_sentiment = data_df.groupby('source_name')['title_sentiment'].agg(['mean', 'median', 'var']).reset_index()\n",
    "\n",
    "# Print results (showing websites with high/low sentiment can be achieved through sorting)\n",
    "print(\"Website Sentiment Statistics (Mean, Median, Variance):\")\n",
    "print(website_sentiment.to_string(index=True))\n",
    "\n",
    "# Sort websites by sentiment metric (e.g., mean sentiment)\n",
    "website_sentiment_sorted_mean = website_sentiment.sort_values(by='mean', ascending=False)  # Sort by descending mean\n",
    "\n",
    "# Print top/bottom 5 websites by mean sentiment (modify as needed)\n",
    "print(\"\\nTop 5 Websites by Mean Sentiment (Descending):\")\n",
    "print(website_sentiment_sorted_mean.head(5))\n",
    "\n",
    "print(\"\\nBottom 5 Websites by Mean Sentiment (Ascending):\")\n",
    "print(website_sentiment_sorted_mean.tail(5))\n",
    "\n",
    "\n",
    "\n",
    "\n",
    "import pandas as pd\n",
    "import matplotlib.pyplot as plt\n",
    "\n",
    "# Load data (assuming 'source_name' is website domain and 'title_sentiment' is sentiment score)\n",
    "df_data = pd.read_csv(\"data.csv\")\n",
    "df_traffic = pd.read_csv(\"traffic_data.csv\")  # Assuming traffic data\n",
    "\n",
    "# Merge data (optional, if needed to join with traffic data)\n",
    "# df_merged = df_data.merge(df_traffic, on='source_name', how='left')  # Left join to keep all data from data.csv\n",
    "\n",
    "# Group by website and calculate statistics\n",
    "website_sentiment = df_data.groupby('source_name')['title_sentiment'].agg(['mean', 'median', 'var']).reset_index()\n",
    "\n",
    "# Top 10 websites by traffic (optional, if traffic data is available)\n",
    "top_10_traffic = df_traffic.sort_values(by='GlobalRank').head(10)['source_name'].tolist()\n",
    "website_sentiment_filtered = website_sentiment[website_sentiment['source_name'].isin(top_10_traffic)]  # Filter by top 10\n",
    "\n",
    "# Print results (mean vs. median comparison)\n",
    "print(\"Mean vs. Median Sentiment Comparison:\")\n",
    "for index, row in website_sentiment_filtered.iterrows():\n",
    "  website_name = row['source_name']\n",
    "  mean_sentiment = row['mean']\n",
    "  median_sentiment = row['median']\n",
    "  print(f\"\\nWebsite: {website_name}\")\n",
    "  print(f\"Mean Sentiment: {mean_sentiment}\")\n",
    "  print(f\"Median Sentiment: {median_sentiment}\")\n",
    "\n",
    "# Sentiment distribution for top websites (histograms)\n",
    "for index, row in website_sentiment_filtered.iterrows():\n",
    "  website_name = row['source_name']\n",
    "  website_data = df_data[df_data['source_name'] == website_name]\n",
    "  plt.figure(figsize=(6, 4))\n",
    "  plt.hist(website_data['title_sentiment'], bins=10, edgecolor='black', label=website_name)\n",
    "  plt.xlabel('Sentiment Score')\n",
    "  plt.ylabel('Number of Articles')\n",
    "  plt.title(f\"Sentiment Distribution for {website_name}\")\n",
    "  plt.grid(True)\n",
    "  plt.legend()\n",
    "  plt.tight_layout()\n",
    "  plt.show()\n",
    "\n"
   ]
  },
  {
   "cell_type": "code",
   "execution_count": 8,
   "metadata": {},
   "outputs": [
    {
     "ename": "TypeError",
     "evalue": "agg function failed [how->mean,dtype->object]",
     "output_type": "error",
     "traceback": [
      "\u001b[0;31m---------------------------------------------------------------------------\u001b[0m",
      "\u001b[0;31mTypeError\u001b[0m                                 Traceback (most recent call last)",
      "File \u001b[0;32m~/Desktop/martin_1/myenv/lib/python3.11/site-packages/pandas/core/groupby/groupby.py:1942\u001b[0m, in \u001b[0;36mGroupBy._agg_py_fallback\u001b[0;34m(self, how, values, ndim, alt)\u001b[0m\n\u001b[1;32m   1941\u001b[0m \u001b[38;5;28;01mtry\u001b[39;00m:\n\u001b[0;32m-> 1942\u001b[0m     res_values \u001b[38;5;241m=\u001b[39m \u001b[38;5;28;43mself\u001b[39;49m\u001b[38;5;241;43m.\u001b[39;49m\u001b[43m_grouper\u001b[49m\u001b[38;5;241;43m.\u001b[39;49m\u001b[43magg_series\u001b[49m\u001b[43m(\u001b[49m\u001b[43mser\u001b[49m\u001b[43m,\u001b[49m\u001b[43m \u001b[49m\u001b[43malt\u001b[49m\u001b[43m,\u001b[49m\u001b[43m \u001b[49m\u001b[43mpreserve_dtype\u001b[49m\u001b[38;5;241;43m=\u001b[39;49m\u001b[38;5;28;43;01mTrue\u001b[39;49;00m\u001b[43m)\u001b[49m\n\u001b[1;32m   1943\u001b[0m \u001b[38;5;28;01mexcept\u001b[39;00m \u001b[38;5;167;01mException\u001b[39;00m \u001b[38;5;28;01mas\u001b[39;00m err:\n",
      "File \u001b[0;32m~/Desktop/martin_1/myenv/lib/python3.11/site-packages/pandas/core/groupby/ops.py:864\u001b[0m, in \u001b[0;36mBaseGrouper.agg_series\u001b[0;34m(self, obj, func, preserve_dtype)\u001b[0m\n\u001b[1;32m    862\u001b[0m     preserve_dtype \u001b[38;5;241m=\u001b[39m \u001b[38;5;28;01mTrue\u001b[39;00m\n\u001b[0;32m--> 864\u001b[0m result \u001b[38;5;241m=\u001b[39m \u001b[38;5;28;43mself\u001b[39;49m\u001b[38;5;241;43m.\u001b[39;49m\u001b[43m_aggregate_series_pure_python\u001b[49m\u001b[43m(\u001b[49m\u001b[43mobj\u001b[49m\u001b[43m,\u001b[49m\u001b[43m \u001b[49m\u001b[43mfunc\u001b[49m\u001b[43m)\u001b[49m\n\u001b[1;32m    866\u001b[0m npvalues \u001b[38;5;241m=\u001b[39m lib\u001b[38;5;241m.\u001b[39mmaybe_convert_objects(result, try_float\u001b[38;5;241m=\u001b[39m\u001b[38;5;28;01mFalse\u001b[39;00m)\n",
      "File \u001b[0;32m~/Desktop/martin_1/myenv/lib/python3.11/site-packages/pandas/core/groupby/ops.py:885\u001b[0m, in \u001b[0;36mBaseGrouper._aggregate_series_pure_python\u001b[0;34m(self, obj, func)\u001b[0m\n\u001b[1;32m    884\u001b[0m \u001b[38;5;28;01mfor\u001b[39;00m i, group \u001b[38;5;129;01min\u001b[39;00m \u001b[38;5;28menumerate\u001b[39m(splitter):\n\u001b[0;32m--> 885\u001b[0m     res \u001b[38;5;241m=\u001b[39m \u001b[43mfunc\u001b[49m\u001b[43m(\u001b[49m\u001b[43mgroup\u001b[49m\u001b[43m)\u001b[49m\n\u001b[1;32m    886\u001b[0m     res \u001b[38;5;241m=\u001b[39m extract_result(res)\n",
      "File \u001b[0;32m~/Desktop/martin_1/myenv/lib/python3.11/site-packages/pandas/core/groupby/groupby.py:2454\u001b[0m, in \u001b[0;36mGroupBy.mean.<locals>.<lambda>\u001b[0;34m(x)\u001b[0m\n\u001b[1;32m   2451\u001b[0m \u001b[38;5;28;01melse\u001b[39;00m:\n\u001b[1;32m   2452\u001b[0m     result \u001b[38;5;241m=\u001b[39m \u001b[38;5;28mself\u001b[39m\u001b[38;5;241m.\u001b[39m_cython_agg_general(\n\u001b[1;32m   2453\u001b[0m         \u001b[38;5;124m\"\u001b[39m\u001b[38;5;124mmean\u001b[39m\u001b[38;5;124m\"\u001b[39m,\n\u001b[0;32m-> 2454\u001b[0m         alt\u001b[38;5;241m=\u001b[39m\u001b[38;5;28;01mlambda\u001b[39;00m x: \u001b[43mSeries\u001b[49m\u001b[43m(\u001b[49m\u001b[43mx\u001b[49m\u001b[43m,\u001b[49m\u001b[43m \u001b[49m\u001b[43mcopy\u001b[49m\u001b[38;5;241;43m=\u001b[39;49m\u001b[38;5;28;43;01mFalse\u001b[39;49;00m\u001b[43m)\u001b[49m\u001b[38;5;241;43m.\u001b[39;49m\u001b[43mmean\u001b[49m\u001b[43m(\u001b[49m\u001b[43mnumeric_only\u001b[49m\u001b[38;5;241;43m=\u001b[39;49m\u001b[43mnumeric_only\u001b[49m\u001b[43m)\u001b[49m,\n\u001b[1;32m   2455\u001b[0m         numeric_only\u001b[38;5;241m=\u001b[39mnumeric_only,\n\u001b[1;32m   2456\u001b[0m     )\n\u001b[1;32m   2457\u001b[0m     \u001b[38;5;28;01mreturn\u001b[39;00m result\u001b[38;5;241m.\u001b[39m__finalize__(\u001b[38;5;28mself\u001b[39m\u001b[38;5;241m.\u001b[39mobj, method\u001b[38;5;241m=\u001b[39m\u001b[38;5;124m\"\u001b[39m\u001b[38;5;124mgroupby\u001b[39m\u001b[38;5;124m\"\u001b[39m)\n",
      "File \u001b[0;32m~/Desktop/martin_1/myenv/lib/python3.11/site-packages/pandas/core/series.py:6540\u001b[0m, in \u001b[0;36mSeries.mean\u001b[0;34m(self, axis, skipna, numeric_only, **kwargs)\u001b[0m\n\u001b[1;32m   6532\u001b[0m \u001b[38;5;129m@doc\u001b[39m(make_doc(\u001b[38;5;124m\"\u001b[39m\u001b[38;5;124mmean\u001b[39m\u001b[38;5;124m\"\u001b[39m, ndim\u001b[38;5;241m=\u001b[39m\u001b[38;5;241m1\u001b[39m))\n\u001b[1;32m   6533\u001b[0m \u001b[38;5;28;01mdef\u001b[39;00m \u001b[38;5;21mmean\u001b[39m(\n\u001b[1;32m   6534\u001b[0m     \u001b[38;5;28mself\u001b[39m,\n\u001b[0;32m   (...)\u001b[0m\n\u001b[1;32m   6538\u001b[0m     \u001b[38;5;241m*\u001b[39m\u001b[38;5;241m*\u001b[39mkwargs,\n\u001b[1;32m   6539\u001b[0m ):\n\u001b[0;32m-> 6540\u001b[0m     \u001b[38;5;28;01mreturn\u001b[39;00m \u001b[43mNDFrame\u001b[49m\u001b[38;5;241;43m.\u001b[39;49m\u001b[43mmean\u001b[49m\u001b[43m(\u001b[49m\u001b[38;5;28;43mself\u001b[39;49m\u001b[43m,\u001b[49m\u001b[43m \u001b[49m\u001b[43maxis\u001b[49m\u001b[43m,\u001b[49m\u001b[43m \u001b[49m\u001b[43mskipna\u001b[49m\u001b[43m,\u001b[49m\u001b[43m \u001b[49m\u001b[43mnumeric_only\u001b[49m\u001b[43m,\u001b[49m\u001b[43m \u001b[49m\u001b[38;5;241;43m*\u001b[39;49m\u001b[38;5;241;43m*\u001b[39;49m\u001b[43mkwargs\u001b[49m\u001b[43m)\u001b[49m\n",
      "File \u001b[0;32m~/Desktop/martin_1/myenv/lib/python3.11/site-packages/pandas/core/generic.py:12417\u001b[0m, in \u001b[0;36mNDFrame.mean\u001b[0;34m(self, axis, skipna, numeric_only, **kwargs)\u001b[0m\n\u001b[1;32m  12410\u001b[0m \u001b[38;5;28;01mdef\u001b[39;00m \u001b[38;5;21mmean\u001b[39m(\n\u001b[1;32m  12411\u001b[0m     \u001b[38;5;28mself\u001b[39m,\n\u001b[1;32m  12412\u001b[0m     axis: Axis \u001b[38;5;241m|\u001b[39m \u001b[38;5;28;01mNone\u001b[39;00m \u001b[38;5;241m=\u001b[39m \u001b[38;5;241m0\u001b[39m,\n\u001b[0;32m   (...)\u001b[0m\n\u001b[1;32m  12415\u001b[0m     \u001b[38;5;241m*\u001b[39m\u001b[38;5;241m*\u001b[39mkwargs,\n\u001b[1;32m  12416\u001b[0m ) \u001b[38;5;241m-\u001b[39m\u001b[38;5;241m>\u001b[39m Series \u001b[38;5;241m|\u001b[39m \u001b[38;5;28mfloat\u001b[39m:\n\u001b[0;32m> 12417\u001b[0m     \u001b[38;5;28;01mreturn\u001b[39;00m \u001b[38;5;28;43mself\u001b[39;49m\u001b[38;5;241;43m.\u001b[39;49m\u001b[43m_stat_function\u001b[49m\u001b[43m(\u001b[49m\n\u001b[1;32m  12418\u001b[0m \u001b[43m        \u001b[49m\u001b[38;5;124;43m\"\u001b[39;49m\u001b[38;5;124;43mmean\u001b[39;49m\u001b[38;5;124;43m\"\u001b[39;49m\u001b[43m,\u001b[49m\u001b[43m \u001b[49m\u001b[43mnanops\u001b[49m\u001b[38;5;241;43m.\u001b[39;49m\u001b[43mnanmean\u001b[49m\u001b[43m,\u001b[49m\u001b[43m \u001b[49m\u001b[43maxis\u001b[49m\u001b[43m,\u001b[49m\u001b[43m \u001b[49m\u001b[43mskipna\u001b[49m\u001b[43m,\u001b[49m\u001b[43m \u001b[49m\u001b[43mnumeric_only\u001b[49m\u001b[43m,\u001b[49m\u001b[43m \u001b[49m\u001b[38;5;241;43m*\u001b[39;49m\u001b[38;5;241;43m*\u001b[39;49m\u001b[43mkwargs\u001b[49m\n\u001b[1;32m  12419\u001b[0m \u001b[43m    \u001b[49m\u001b[43m)\u001b[49m\n",
      "File \u001b[0;32m~/Desktop/martin_1/myenv/lib/python3.11/site-packages/pandas/core/generic.py:12374\u001b[0m, in \u001b[0;36mNDFrame._stat_function\u001b[0;34m(self, name, func, axis, skipna, numeric_only, **kwargs)\u001b[0m\n\u001b[1;32m  12372\u001b[0m validate_bool_kwarg(skipna, \u001b[38;5;124m\"\u001b[39m\u001b[38;5;124mskipna\u001b[39m\u001b[38;5;124m\"\u001b[39m, none_allowed\u001b[38;5;241m=\u001b[39m\u001b[38;5;28;01mFalse\u001b[39;00m)\n\u001b[0;32m> 12374\u001b[0m \u001b[38;5;28;01mreturn\u001b[39;00m \u001b[38;5;28;43mself\u001b[39;49m\u001b[38;5;241;43m.\u001b[39;49m\u001b[43m_reduce\u001b[49m\u001b[43m(\u001b[49m\n\u001b[1;32m  12375\u001b[0m \u001b[43m    \u001b[49m\u001b[43mfunc\u001b[49m\u001b[43m,\u001b[49m\u001b[43m \u001b[49m\u001b[43mname\u001b[49m\u001b[38;5;241;43m=\u001b[39;49m\u001b[43mname\u001b[49m\u001b[43m,\u001b[49m\u001b[43m \u001b[49m\u001b[43maxis\u001b[49m\u001b[38;5;241;43m=\u001b[39;49m\u001b[43maxis\u001b[49m\u001b[43m,\u001b[49m\u001b[43m \u001b[49m\u001b[43mskipna\u001b[49m\u001b[38;5;241;43m=\u001b[39;49m\u001b[43mskipna\u001b[49m\u001b[43m,\u001b[49m\u001b[43m \u001b[49m\u001b[43mnumeric_only\u001b[49m\u001b[38;5;241;43m=\u001b[39;49m\u001b[43mnumeric_only\u001b[49m\n\u001b[1;32m  12376\u001b[0m \u001b[43m\u001b[49m\u001b[43m)\u001b[49m\n",
      "File \u001b[0;32m~/Desktop/martin_1/myenv/lib/python3.11/site-packages/pandas/core/series.py:6448\u001b[0m, in \u001b[0;36mSeries._reduce\u001b[0;34m(self, op, name, axis, skipna, numeric_only, filter_type, **kwds)\u001b[0m\n\u001b[1;32m   6444\u001b[0m     \u001b[38;5;28;01mraise\u001b[39;00m \u001b[38;5;167;01mTypeError\u001b[39;00m(\n\u001b[1;32m   6445\u001b[0m         \u001b[38;5;124mf\u001b[39m\u001b[38;5;124m\"\u001b[39m\u001b[38;5;124mSeries.\u001b[39m\u001b[38;5;132;01m{\u001b[39;00mname\u001b[38;5;132;01m}\u001b[39;00m\u001b[38;5;124m does not allow \u001b[39m\u001b[38;5;132;01m{\u001b[39;00mkwd_name\u001b[38;5;132;01m}\u001b[39;00m\u001b[38;5;124m=\u001b[39m\u001b[38;5;132;01m{\u001b[39;00mnumeric_only\u001b[38;5;132;01m}\u001b[39;00m\u001b[38;5;124m \u001b[39m\u001b[38;5;124m\"\u001b[39m\n\u001b[1;32m   6446\u001b[0m         \u001b[38;5;124m\"\u001b[39m\u001b[38;5;124mwith non-numeric dtypes.\u001b[39m\u001b[38;5;124m\"\u001b[39m\n\u001b[1;32m   6447\u001b[0m     )\n\u001b[0;32m-> 6448\u001b[0m \u001b[38;5;28;01mreturn\u001b[39;00m \u001b[43mop\u001b[49m\u001b[43m(\u001b[49m\u001b[43mdelegate\u001b[49m\u001b[43m,\u001b[49m\u001b[43m \u001b[49m\u001b[43mskipna\u001b[49m\u001b[38;5;241;43m=\u001b[39;49m\u001b[43mskipna\u001b[49m\u001b[43m,\u001b[49m\u001b[43m \u001b[49m\u001b[38;5;241;43m*\u001b[39;49m\u001b[38;5;241;43m*\u001b[39;49m\u001b[43mkwds\u001b[49m\u001b[43m)\u001b[49m\n",
      "File \u001b[0;32m~/Desktop/martin_1/myenv/lib/python3.11/site-packages/pandas/core/nanops.py:147\u001b[0m, in \u001b[0;36mbottleneck_switch.__call__.<locals>.f\u001b[0;34m(values, axis, skipna, **kwds)\u001b[0m\n\u001b[1;32m    146\u001b[0m \u001b[38;5;28;01melse\u001b[39;00m:\n\u001b[0;32m--> 147\u001b[0m     result \u001b[38;5;241m=\u001b[39m \u001b[43malt\u001b[49m\u001b[43m(\u001b[49m\u001b[43mvalues\u001b[49m\u001b[43m,\u001b[49m\u001b[43m \u001b[49m\u001b[43maxis\u001b[49m\u001b[38;5;241;43m=\u001b[39;49m\u001b[43maxis\u001b[49m\u001b[43m,\u001b[49m\u001b[43m \u001b[49m\u001b[43mskipna\u001b[49m\u001b[38;5;241;43m=\u001b[39;49m\u001b[43mskipna\u001b[49m\u001b[43m,\u001b[49m\u001b[43m \u001b[49m\u001b[38;5;241;43m*\u001b[39;49m\u001b[38;5;241;43m*\u001b[39;49m\u001b[43mkwds\u001b[49m\u001b[43m)\u001b[49m\n\u001b[1;32m    149\u001b[0m \u001b[38;5;28;01mreturn\u001b[39;00m result\n",
      "File \u001b[0;32m~/Desktop/martin_1/myenv/lib/python3.11/site-packages/pandas/core/nanops.py:404\u001b[0m, in \u001b[0;36m_datetimelike_compat.<locals>.new_func\u001b[0;34m(values, axis, skipna, mask, **kwargs)\u001b[0m\n\u001b[1;32m    402\u001b[0m     mask \u001b[38;5;241m=\u001b[39m isna(values)\n\u001b[0;32m--> 404\u001b[0m result \u001b[38;5;241m=\u001b[39m \u001b[43mfunc\u001b[49m\u001b[43m(\u001b[49m\u001b[43mvalues\u001b[49m\u001b[43m,\u001b[49m\u001b[43m \u001b[49m\u001b[43maxis\u001b[49m\u001b[38;5;241;43m=\u001b[39;49m\u001b[43maxis\u001b[49m\u001b[43m,\u001b[49m\u001b[43m \u001b[49m\u001b[43mskipna\u001b[49m\u001b[38;5;241;43m=\u001b[39;49m\u001b[43mskipna\u001b[49m\u001b[43m,\u001b[49m\u001b[43m \u001b[49m\u001b[43mmask\u001b[49m\u001b[38;5;241;43m=\u001b[39;49m\u001b[43mmask\u001b[49m\u001b[43m,\u001b[49m\u001b[43m \u001b[49m\u001b[38;5;241;43m*\u001b[39;49m\u001b[38;5;241;43m*\u001b[39;49m\u001b[43mkwargs\u001b[49m\u001b[43m)\u001b[49m\n\u001b[1;32m    406\u001b[0m \u001b[38;5;28;01mif\u001b[39;00m datetimelike:\n",
      "File \u001b[0;32m~/Desktop/martin_1/myenv/lib/python3.11/site-packages/pandas/core/nanops.py:720\u001b[0m, in \u001b[0;36mnanmean\u001b[0;34m(values, axis, skipna, mask)\u001b[0m\n\u001b[1;32m    719\u001b[0m the_sum \u001b[38;5;241m=\u001b[39m values\u001b[38;5;241m.\u001b[39msum(axis, dtype\u001b[38;5;241m=\u001b[39mdtype_sum)\n\u001b[0;32m--> 720\u001b[0m the_sum \u001b[38;5;241m=\u001b[39m \u001b[43m_ensure_numeric\u001b[49m\u001b[43m(\u001b[49m\u001b[43mthe_sum\u001b[49m\u001b[43m)\u001b[49m\n\u001b[1;32m    722\u001b[0m \u001b[38;5;28;01mif\u001b[39;00m axis \u001b[38;5;129;01mis\u001b[39;00m \u001b[38;5;129;01mnot\u001b[39;00m \u001b[38;5;28;01mNone\u001b[39;00m \u001b[38;5;129;01mand\u001b[39;00m \u001b[38;5;28mgetattr\u001b[39m(the_sum, \u001b[38;5;124m\"\u001b[39m\u001b[38;5;124mndim\u001b[39m\u001b[38;5;124m\"\u001b[39m, \u001b[38;5;28;01mFalse\u001b[39;00m):\n",
      "File \u001b[0;32m~/Desktop/martin_1/myenv/lib/python3.11/site-packages/pandas/core/nanops.py:1701\u001b[0m, in \u001b[0;36m_ensure_numeric\u001b[0;34m(x)\u001b[0m\n\u001b[1;32m   1699\u001b[0m \u001b[38;5;28;01mif\u001b[39;00m \u001b[38;5;28misinstance\u001b[39m(x, \u001b[38;5;28mstr\u001b[39m):\n\u001b[1;32m   1700\u001b[0m     \u001b[38;5;66;03m# GH#44008, GH#36703 avoid casting e.g. strings to numeric\u001b[39;00m\n\u001b[0;32m-> 1701\u001b[0m     \u001b[38;5;28;01mraise\u001b[39;00m \u001b[38;5;167;01mTypeError\u001b[39;00m(\u001b[38;5;124mf\u001b[39m\u001b[38;5;124m\"\u001b[39m\u001b[38;5;124mCould not convert string \u001b[39m\u001b[38;5;124m'\u001b[39m\u001b[38;5;132;01m{\u001b[39;00mx\u001b[38;5;132;01m}\u001b[39;00m\u001b[38;5;124m'\u001b[39m\u001b[38;5;124m to numeric\u001b[39m\u001b[38;5;124m\"\u001b[39m)\n\u001b[1;32m   1702\u001b[0m \u001b[38;5;28;01mtry\u001b[39;00m:\n",
      "\u001b[0;31mTypeError\u001b[0m: Could not convert string 'NegativeNeutralNegativePositiveNeutralNeutralNeutralNegativeNeutralNeutralNeutralNegativeNeutralNeutralNeutralNeutralNegativeNeutralNeutralNeutralNegativeNeutralNeutralNegativeNegativeNeutralNeutralNeutralNeutralNegativeNeutralNeutralNegativeNeutralNegativeNegativeNegativeNegativeNeutralNegativeNegativeNeutralNegativeNeutralNeutralNeutralNeutralNegativeNegativeNegativeNeutralNeutralNeutralNegativeNeutralNegativeNegativeNegativeNegativeNeutralPositiveNeutralNeutralNeutralNegativeNegativeNeutralNeutralNeutralNeutralNeutralNegativeNeutralNeutralNegativeNeutralNeutralNeutralNeutralNeutralNeutralNeutralNeutralNeutralNegativeNeutralNeutralNegativeNegativeNeutralNegativeNegativePositiveNegativeNeutralNegativeNeutralNeutralPositiveNeutralPositiveNeutralNegativeNeutralNeutralNeutralNeutralNeutralNegativeNeutralPositiveNeutralNegativeNeutralNeutralNeutralNegativeNeutralNeutralNeutralPositiveNeutralNegativeNegativeNeutralNeutralPositiveNegativeNeutralPositivePositiveNeutralNeutralNegativeNeutralNeutralNegativeNeutralNeutralNegativeNeutralNeutralNegativeNegativeNeutralNeutralNeutralNeutralNegativeNeutralNeutralNeutralNeutralNegativeNeutralNeutralNeutralNegativeNeutralNegativeNeutralNeutralNegativeNeutralNeutralNegativeNegativeNegativePositiveNeutralNegativeNeutralNegativeNegativeNeutralNegativeNegativeNegativeNegativeNeutralNegativeNeutralNeutralNegativeNeutralNegativePositiveNeutralNeutralNegativeNeutralNeutralNegativeNeutralNeutralNeutralNeutralNegativeNegativeNeutralNeutralNeutralNeutralNegativeNegativeNegativeNegativeNeutralNeutralNegativeNeutralNeutralNegativeNeutralNeutralNeutralNeutralNeutralNeutralNeutralNegativeNegativeNegativeNegativeNegativeNegativeNeutralNegativeNegativeNeutralNegativeNegativeNeutralNegativeNegativeNegativeNegativeNegativeNegativeNegativeNeutralNegativeNegativeNeutralNegativeNegativeNegativeNegativeNeutralNegativeNegativeNeutralPositiveNeutralNegativeNegativeNeutralNeutralNegativeNeutralNegativeNeutralNeutralNeutralNegativeNeutralNeutralNeutralNegativeNegativeNegativeNegativeNegativeNeutralNegativeNegativeNegativeNeutralNegativeNeutralNegativeNeutralNeutralNeutralNeutralNeutralNeutralNeutralNegativeNegativeNeutralNeutralNegativeNeutralNeutralNegativeNeutralNeutralNegativeNeutralNeutralNegativeNeutralNeutralNeutralNeutralNeutralNeutralNegativeNegativeNeutralNeutralNeutralNeutralPositiveNegativeNeutralNegativeNeutralPositiveNegativeNegativeNegativeNegativeNegativeNeutralNeutralNegativeNegativeNeutralNegativeNeutralNeutralNeutralNegativeNeutralNegativeNegativeNegativeNegativeNeutralNeutralNegativeNegativeNegativeNeutralNeutralNeutralNegativeNeutralNegativeNeutralPositiveNeutralNegativeNeutralNegativeNegativeNegativeNeutralNeutralNeutralNegativeNegativeNegativeNegativeNegativeNegativeNeutralNegativeNeutralNeutralPositiveNegativeNegativeNegativeNegativeNeutralNeutralNeutralNegativeNegativeNegativeNegativeNeutralNeutralPositivePositiveNeutralNeutralNeutralNeutralNegativeNegativeNegativeNeutralNegativeNeutralPositiveNegativeNegativeNeutralNeutralNeutralNegativeNeutralPositiveNegativeNeutralNeutralNeutralNegativeNegativeNegativeNeutralNeutralNeutralNeutralNeutralNeutralNeutralNeutralNeutralNeutralNeutralNegativeNegativeNegativeNegativeNeutralNegativeNegativeNegativeNeutralNegativeNegativeNegativeNeutralNegativeNegativeNeutralNegativeNeutralNegativeNeutralNeutralNeutralNegativeNegativeNegativeNeutralNeutralPositiveNeutralNeutralNegativeNegativeNeutralNegativeNegativeNeutralNegativeNegativeNeutralNeutralNegativeNegativeNeutralPositiveNegativeNeutralNegativePositiveNeutralNeutralNeutralNeutralNeutralNeutralNegativeNegativeNegativeNeutralNegativeNegativeNeutralNeutralNeutralNegativeNegativeNegativeNeutralNeutralNegativeNeutralNeutralNegativeNegativeNeutralNegativeNeutralNeutralNeutralNegativeNegativeNegativeNeutralNegativeNeutralNegativeNegativeNeutralNegativeNeutralNeutralNegativeNeutralNeutralNeutralNegativeNeutralNeutralNeutralNegativeNegativeNegativeNegativeNeutralNegativeNegativeNegativeNegativePositiveNegativeNeutralNegativeNegativeNeutralNeutralNeutralNeutralNegativeNegativeNeutralNegativePositiveNegativeNegativeNegativeNegativeNeutralNegativeNegativeNegativeNeutralNeutralNeutralNegativeNeutralNegativeNeutralNegativeNegativeNegativeNegativeNeutralNeutralNegativeNegativeNeutralNegativeNegativeNeutralNegativePositiveNeutralNeutralNegativeNeutralNeutralNeutralNegativeNegativeNegativeNeutralNeutralNeutralNegativeNegativePositiveNegativeNeutralNeutralNeutralNegativeNegativeNeutralNeutralNegativeNeutralNegativeNegativeNeutralNegativeNeutralNegativeNeutralNeutralNeutralNeutralNeutralNeutralNeutralNeutralNegativeNeutralNegativeNegativeNeutralNeutralNeutralNeutralNegativeNegativeNegativeNeutralNeutralNegativeNegativeNegativePositiveNegativeNeutralNeutralNegativeNeutralNeutralNegativeNeutralNegativeNeutralNegativeNeutralNeutralNegativeNegativeNeutralNeutralNeutralNeutralNeutralNeutralNeutralNeutralNeutralNeutralNegativeNeutralNeutralNegativeNeutralNeutralNeutralNegativeNeutralNegativeNegativeNeutralNeutralNegativePositivePositiveNegativeNeutralNeutralNegativeNeutralNeutralNeutralPositiveNeutralNeutralNeutralNegativeNeutralNeutralNeutralPositiveNeutralNeutralNeutralNeutralNeutralNeutralNeutralNegativeNeutralNeutralNeutralNegativeNegativeNeutralNegativeNegativeNeutralNeutralNegativeNeutralNeutralNeutralNegativeNeutralPositiveNeutralNeutralNeutralNeutralNegativeNeutralNegativeNegativeNeutralNegativeNegativeNeutralNeutralNegativeNegativeNeutralNeutralNeutralNeutralNeutralNeutralNeutralNeutralNeutralNeutralNeutralNegativeNeutralNeutralNeutralNeutralNeutralNeutralNeutralNeutralNeutralNegativeNeutralNegativeNegativeNegativeNegativeNeutralNegativeNegativeNeutralNegativeNeutralNeutralNegativeNeutralPositiveNeutralNeutralNeutralNeutralNegativeNeutralNegativeNegativeNeutralNegativeNegativeNeutralNeutralNegativeNegativeNeutralNeutralNeutralNeutralNeutralNeutralNeutralNeutralNeutralNeutralNeutralNeutralNegativeNeutralNeutralNeutralNeutralNeutralNeutralNeutralNeutralNegativeNeutralNegativeNegativeNegativeNegativeNeutralNegativeNegativeNeutralNegativeNeutralNeutralNegativeNeutralNeutralNeutralNeutralNegativeNeutralNegativeNegativeNeutralNeutralNeutralNeutralNeutralNeutralNeutralNeutralNeutralNegativeNegativeNeutralNegativeNegativeNeutralNeutralNeutralPositiveNeutralNegativeNeutralNeutralNegativeNegativeNegativePositiveNegativeNegativeNeutralNegativeNeutralNegativePositiveNegativeNegativeNegativeNeutralNegativeNeutralNeutralNeutralNeutralNeutralPositiveNegativeNeutralNeutralNeutralNeutralNegativeNeutralNeutralPositiveNeutralNeutralNegativeNeutralNeutralNeutralNeutralNeutralNegativePositivePositiveNeutralNeutralNeutralNeutralNegativeNegativeNeutralNeutralNeutralPositiveNegativeNeutralNegativeNeutralNeutralNeutralNegativeNeutralNeutralNeutralNegativeNeutralNegativeNegativeNeutralNeutralNeutralNeutralNeutralPositiveNegativeNegativeNegativeNegativeNegativeNegativeNegativeNegativeNeutralNegativeNeutralNegativeNeutralNegativeNegativeNeutralNeutralNegativeNegativePositiveNegativeNegativePositiveNeutralNeutralNeutralNeutralNegativeNegativeNegativeNegativeNeutralNeutralPositiveNeutralNeutralNeutralNeutralNeutralNeutralNeutralNeutralNeutralNeutralNeutralNeutralNegativeNegativeNeutralNeutralNeutralNeutralNeutralNeutralNeutralNeutralNeutralNeutralPositiveNegativeNeutralPositiveNeutralNeutralNegativeNeutralNeutralNeutralNeutralNegativeNegativeNegativeNeutralNeutralNegativeNegativePositiveNegativeNegativePositiveNeutralNeutralNeutralNeutralNegativeNegativeNegativeNegativeNeutralNeutralPositiveNeutralNeutralNeutralNeutralNeutralNeutralNeutralNeutralNeutralNeutralNeutralNeutralNegativeNegativeNeutralNeutralNeutralNeutralNeutralNeutralNeutralNeutralNeutralNeutralPositiveNegativeNeutralPositiveNeutralNeutralNegativeNeutralNeutralNeutralNeutralNeutralNegativeNeutralNegativeNegativeNeutralNeutralNegativeNegativeNegativeNegativeNegativeNeutralNeutralNeutralNegativeNeutralNegativeNeutralNegativeNeutralNeutralNeutralNegativeNeutralNeutralNeutralNeutralNeutralNeutralNeutralNeutralNegativeNegativeNeutralNeutralNegativeNeutralNegativeNeutralNeutralNegativeNeutralNeutralNeutralNeutralNegativeNeutralNeutralNegativeNegativeNegativeNegativeNeutralNeutralNeutralNeutralNeutralNegativeNeutralNeutralNegativeNeutralNegativeNegativeNeutralNegativeNeutralNeutralNeutralNegativeNeutralNegativeNeutralNeutralNeutralNeutralNegativeNeutralNeutralNegativeNegativeNegativeNegativeNeutralNeutralNeutralNeutralNeutralPositivePositiveNeutralPositiveNeutralNeutralNegativePositiveNeutralNeutralNeutralNeutralNeutralNegativeNeutralNeutralNeutralNeutralNeutralNeutralNeutralNegativeNegativeNeutralNeutralNeutralNeutralNeutralNegativeNegativeNeutralNeutralNeutralNegativeNegativeNegativePositiveNegativePositiveNeutralNeutralNegativeNeutralNeutralNeutralNegativeNegativeNeutralNeutralNeutralNegativeNegativeNegativeNeutralNeutralNeutralNeutralNeutralNeutralPositivePositiveNeutralNeutralPositiveNeutralPositiveNeutralNeutralNeutralNegativeNegativeNeutralNeutralNeutralNegativeNeutralNegativeNegativeNeutralNeutralNeutralNegativeNeutralNeutralNeutralNeutralNeutralNeutralNeutralNeutralNeutralNeutralNeutralNegativeNegativePositiveNegativeNeutralNeutralNeutralNegativeNeutralNegativeNeutralNegativeNeutralNeutralNegativeNegativeNeutralNeutralNegativeNeutralNegativeNeutralNeutralNeutralNeutralNeutralNegativeNeutralNeutralNeutralNeutralNegativeNeutralNeutralNegativeNegativeNegativePositivePositivePositivePositiveNeutralNeutralNeutralNeutralNeutralNeutralPositiveNeutralNeutralNeutralNeutralNeutralNeutralNeutralNegativeNeutralNegativeNeutralNeutralNegativeNeutralNegativePositiveNeutralNeutralNeutralNeutralPositiveNegativeNegativeNegativeNegativeNeutralPositiveNeutralNeutralNeutralNegativeNeutralNeutralNeutralNeutralNegativeNegativeNeutralNeutralNegativeNeutralNegativeNeutralNegativeNeutralNegativeNegativeNegativeNeutralNeutralNegativeNegativeNegativePositivePositiveNeutralNeutralNeutralNeutralNeutralPositiveNeutralPositiveNeutralNegativeNeutralNeutralNeutralNegativeNeutralNegativeNeutralNegativeNeutralNeutralNeutralNeutralNeutralNegativeNegativeNeutralNeutralPositiveNegativeNeutralNegativeNegativeNegativeNegativeNegativePositiveNegativeNegativeNeutralNegativePositiveNegativeNeutralPositivePositiveNeutralNeutralPositiveNeutralNegativeNeutralNeutralNeutralNegativeNeutralPositiveNeutralNegativePositiveNeutralNeutralNeutralNegativeNegativeNeutralNegativeNegativeNeutralNeutralPositiveNeutralNegativeNeutralPositiveNeutralPositiveNeutralNeutralNeutralPositiveNegativeNeutralNeutralNegativeNeutralNegativeNegativeNeutralNegativeNegativeNeutralNeutralNeutralNeutralNegativeNeutralNeutralNegativeNegativeNeutralNegativeNeutralNeutralNegativeNegativeNeutralNeutralNegativeNegativeNeutralNeutralNegativeNegativePositiveNeutralNegativeNegativeNegativeNeutralNeutralNeutralNegativeNeutralNeutralNeutralNegativeNegativeNeutralNeutralNeutralNegativeNegativeNegativeNeutralNeutralNeutralPositiveNeutralNegativeNeutralNeutralNeutralNegativeNeutralPositiveNegativeNeutralNeutralNegativeNegativeNegativeNegativePositivePositiveNeutralNeutralNeutralNeutralNeutralNeutralNeutralNeutralNegativeNeutralNeutralNegativeNegativeNegativeNegativeNeutralNeutralPositiveNeutralNeutralNegativeNegativeNeutralNeutralNegativeNeutralNeutralNegativeNeutralNegativeNeutralNeutralNeutralNegativeNeutralNegativeNegativeNeutralNeutralNeutralNeutralNeutralNegativeNegativeNegativeNeutralNegativeNeutralNeutralNegativeNeutralNegativeNegativePositiveNeutralNeutralNegativeNegativeNeutralNeutralNegativeNeutralNeutralNegativeNeutralNeutralNeutralNegativeNegativeNeutralNegativeNegativeNegativeNeutralNegativeNeutralNeutralNeutralNegativeNeutralNeutralNeutralNeutralNeutralNeutralPositiveNeutralNeutralNeutralNeutralNeutralNeutralNeutralNeutralNeutralNeutralNeutralNeutralNegativeNegativeNegativeNeutralNeutralPositiveNeutralNeutralNegativeNeutralNeutralNeutralNegativePositivePositiveNegativeNeutralNegativeNeutralNegativeNegativeNegativeNeutralNegativeNegativeNeutralNegativeNegativeNegativeNegativeNeutralNeutralNeutralNeutralNegativeNeutralNeutralNeutralNegativeNegativeNeutralPositiveNeutralNeutralNegativeNeutralNeutralNegativePositivePositiveNegativeNeutralNeutralNegativeNeutralNeutralNegativeNegativeNegativeNeutralNeutralNeutralNeutralNegativeNegativeNeutralNeutralNeutralNeutralNeutralNeutralNeutralNeutralNeutralNeutralNeutralNeutralNegativeNegativeNeutralNeutralNeutralNeutralNeutralNeutralNeutralNeutralNeutralNeutralNeutralNeutralNeutralNeutralNeutralNeutralNeutralNegativeNegativeNegativeNeutralNeutralNeutralNegativeNeutralNegativeNegativeNeutralNeutralNegativeNegativeNeutralNeutralNegativeNeutralNeutralNeutralNegativeNegativePositivePositivePositiveNeutralNeutralNeutralNeutralNegativeNegativeNeutralNeutralNeutralPositivePositiveNegativePositiveNeutralNeutralNeutralNeutralNeutralNeutralPositivePositivePositiveNegativeNeutralNeutralNegativeNegativeNeutralNeutralNeutralPositivePositiveNegativeNeutralNeutralNegativeNeutralPositiveNeutralNeutralNegativeNeutralNeutralNeutralNeutralNegativeNegativeNeutralNeutralPositivePositivePositiveNeutralNeutralNeutralNeutralNeutralNeutralNeutralNeutralNeutralNeutralNeutralNeutralNeutralNegativeNegativeNegativeNeutralNegativeNeutralNegativePositivePositiveNegativeNeutralNegativeNeutralNeutralNeutralNeutralNeutralNeutralPositiveNeutralNeutralPositiveNegativeNegativeNeutralNeutralNeutralNegativeNeutralNegativeNeutralNeutralNeutralNegativeNeutralNeutralNegativeNeutralNeutralNeutralNeutralNegativeNeutralNeutralNeutralNeutralNegativeNegativeNegativeNeutralNeutralPositiveNeutralNegativeNegativeNeutralNeutralNeutralNeutralNeutralNeutralNegativeNegativeNeutralNeutralNeutralNeutralNeutralNeutralNeutralNegativeNegativeNeutralNeutralNeutralNegativePositiveNeutralNeutralNeutralPositivePositiveNeutralNegativeNegativeNegativeNeutralNeutralNegativeNegativeNeutralNeutralNeutralNegativeNegativeNeutralNegativeNegativeNeutralNegativeNeutralNeutralNeutralNeutralPositiveNeutralNeutralNeutralNeutralNegativeNeutralNeutralNeutralNeutralNeutralNeutralNegativeNegativeNeutralNeutralNegativeNeutralNeutralNeutralNegativeNegativeNegativePositivePositiveNegativeNeutralNeutralNegativeNegativeNeutralNegativeNeutralNeutralNeutralNeutralNegativeNegativeNegativeNeutralNegativeNegativeNeutralPositiveNeutralNegativeNeutralNeutralNeutralNeutralNeutralNeutralNegativeNegativeNeutralNeutralNegativeNeutralNeutralNeutralPositivePositiveNegativeNegativeNeutralNeutralNegativeNeutralNegativeNeutralNeutralNeutralNeutralNegativeNeutralPositivePositiveNegativeNeutralNegativeNeutralNegativeNegativePositivePositiveNegativeNeutralNeutralNeutralNeutralNeutralNegativeNegativeNeutralNegativeNegativeNeutralNeutralNegativeNeutralNegativeNeutralNeutralNeutralNegativeNegativeNegativePositiveNeutralNeutralNeutralNeutralNeutralNeutralNeutralNeutralNegativeNegativeNeutralNegativeNegativeNeutralNeutralNeutralNegativeNeutralNeutralNeutralNeutralNeutralNeutralNegativeNeutralNeutralNegativeNeutralNeutralNeutralNeutralNeutralNegativeNegativeNeutralNeutralNeutralNegativeNeutralNeutralNeutralNeutralNegativeNeutralNegativeNegativeNeutralNeutralNeutralNeutralNeutralNeutralNegativeNeutralNegativeNegativeNeutralNeutralNeutralNeutralPositiveNeutralPositiveNeutralNeutralNeutralNeutralNeutralNegativeNeutralNeutralNeutralNeutralNeutralNeutralNeutralNeutralNegativeNegativeNeutral' to numeric",
      "\nThe above exception was the direct cause of the following exception:\n",
      "\u001b[0;31mTypeError\u001b[0m                                 Traceback (most recent call last)",
      "Cell \u001b[0;32mIn[8], line 5\u001b[0m\n\u001b[1;32m      1\u001b[0m \u001b[38;5;66;03m# Assuming 'data' is a DataFrame with columns: 'website', 'sentiment'\u001b[39;00m\n\u001b[1;32m      2\u001b[0m \n\u001b[1;32m      3\u001b[0m \u001b[38;5;66;03m# Group data by website domain and calculate statistics\u001b[39;00m\n\u001b[1;32m      4\u001b[0m df_filtered \u001b[38;5;241m=\u001b[39m data_df[data_df[\u001b[38;5;124m'\u001b[39m\u001b[38;5;124mtitle_sentiment\u001b[39m\u001b[38;5;124m'\u001b[39m]\u001b[38;5;241m.\u001b[39mnotna()]\n\u001b[0;32m----> 5\u001b[0m domain_sentiment \u001b[38;5;241m=\u001b[39m \u001b[43mdf_filtered\u001b[49m\u001b[38;5;241;43m.\u001b[39;49m\u001b[43mgroupby\u001b[49m\u001b[43m(\u001b[49m\u001b[38;5;124;43m'\u001b[39;49m\u001b[38;5;124;43msource_name\u001b[39;49m\u001b[38;5;124;43m'\u001b[39;49m\u001b[43m)\u001b[49m\u001b[43m[\u001b[49m\u001b[38;5;124;43m'\u001b[39;49m\u001b[38;5;124;43mtitle_sentiment\u001b[39;49m\u001b[38;5;124;43m'\u001b[39;49m\u001b[43m]\u001b[49m\u001b[38;5;241;43m.\u001b[39;49m\u001b[43magg\u001b[49m\u001b[43m(\u001b[49m\u001b[43m[\u001b[49m\u001b[38;5;124;43m'\u001b[39;49m\u001b[38;5;124;43mmean\u001b[39;49m\u001b[38;5;124;43m'\u001b[39;49m\u001b[43m,\u001b[49m\u001b[43m \u001b[49m\u001b[38;5;124;43m'\u001b[39;49m\u001b[38;5;124;43mmedian\u001b[39;49m\u001b[38;5;124;43m'\u001b[39;49m\u001b[43m,\u001b[49m\u001b[43m \u001b[49m\u001b[38;5;124;43m'\u001b[39;49m\u001b[38;5;124;43mvar\u001b[39;49m\u001b[38;5;124;43m'\u001b[39;49m\u001b[43m]\u001b[49m\u001b[43m)\u001b[49m\n\u001b[1;32m      7\u001b[0m \u001b[38;5;66;03m# Print descriptive statistics and analyze sentiment distribution for top 10 domains\u001b[39;00m\n\u001b[1;32m      8\u001b[0m \u001b[38;5;28mprint\u001b[39m(domain_sentiment\u001b[38;5;241m.\u001b[39mdescribe())\n",
      "File \u001b[0;32m~/Desktop/martin_1/myenv/lib/python3.11/site-packages/pandas/core/groupby/generic.py:257\u001b[0m, in \u001b[0;36mSeriesGroupBy.aggregate\u001b[0;34m(self, func, engine, engine_kwargs, *args, **kwargs)\u001b[0m\n\u001b[1;32m    255\u001b[0m kwargs[\u001b[38;5;124m\"\u001b[39m\u001b[38;5;124mengine\u001b[39m\u001b[38;5;124m\"\u001b[39m] \u001b[38;5;241m=\u001b[39m engine\n\u001b[1;32m    256\u001b[0m kwargs[\u001b[38;5;124m\"\u001b[39m\u001b[38;5;124mengine_kwargs\u001b[39m\u001b[38;5;124m\"\u001b[39m] \u001b[38;5;241m=\u001b[39m engine_kwargs\n\u001b[0;32m--> 257\u001b[0m ret \u001b[38;5;241m=\u001b[39m \u001b[38;5;28;43mself\u001b[39;49m\u001b[38;5;241;43m.\u001b[39;49m\u001b[43m_aggregate_multiple_funcs\u001b[49m\u001b[43m(\u001b[49m\u001b[43mfunc\u001b[49m\u001b[43m,\u001b[49m\u001b[43m \u001b[49m\u001b[38;5;241;43m*\u001b[39;49m\u001b[43margs\u001b[49m\u001b[43m,\u001b[49m\u001b[43m \u001b[49m\u001b[38;5;241;43m*\u001b[39;49m\u001b[38;5;241;43m*\u001b[39;49m\u001b[43mkwargs\u001b[49m\u001b[43m)\u001b[49m\n\u001b[1;32m    258\u001b[0m \u001b[38;5;28;01mif\u001b[39;00m relabeling:\n\u001b[1;32m    259\u001b[0m     \u001b[38;5;66;03m# columns is not narrowed by mypy from relabeling flag\u001b[39;00m\n\u001b[1;32m    260\u001b[0m     \u001b[38;5;28;01massert\u001b[39;00m columns \u001b[38;5;129;01mis\u001b[39;00m \u001b[38;5;129;01mnot\u001b[39;00m \u001b[38;5;28;01mNone\u001b[39;00m  \u001b[38;5;66;03m# for mypy\u001b[39;00m\n",
      "File \u001b[0;32m~/Desktop/martin_1/myenv/lib/python3.11/site-packages/pandas/core/groupby/generic.py:362\u001b[0m, in \u001b[0;36mSeriesGroupBy._aggregate_multiple_funcs\u001b[0;34m(self, arg, *args, **kwargs)\u001b[0m\n\u001b[1;32m    360\u001b[0m     \u001b[38;5;28;01mfor\u001b[39;00m idx, (name, func) \u001b[38;5;129;01min\u001b[39;00m \u001b[38;5;28menumerate\u001b[39m(arg):\n\u001b[1;32m    361\u001b[0m         key \u001b[38;5;241m=\u001b[39m base\u001b[38;5;241m.\u001b[39mOutputKey(label\u001b[38;5;241m=\u001b[39mname, position\u001b[38;5;241m=\u001b[39midx)\n\u001b[0;32m--> 362\u001b[0m         results[key] \u001b[38;5;241m=\u001b[39m \u001b[38;5;28;43mself\u001b[39;49m\u001b[38;5;241;43m.\u001b[39;49m\u001b[43maggregate\u001b[49m\u001b[43m(\u001b[49m\u001b[43mfunc\u001b[49m\u001b[43m,\u001b[49m\u001b[43m \u001b[49m\u001b[38;5;241;43m*\u001b[39;49m\u001b[43margs\u001b[49m\u001b[43m,\u001b[49m\u001b[43m \u001b[49m\u001b[38;5;241;43m*\u001b[39;49m\u001b[38;5;241;43m*\u001b[39;49m\u001b[43mkwargs\u001b[49m\u001b[43m)\u001b[49m\n\u001b[1;32m    364\u001b[0m \u001b[38;5;28;01mif\u001b[39;00m \u001b[38;5;28many\u001b[39m(\u001b[38;5;28misinstance\u001b[39m(x, DataFrame) \u001b[38;5;28;01mfor\u001b[39;00m x \u001b[38;5;129;01min\u001b[39;00m results\u001b[38;5;241m.\u001b[39mvalues()):\n\u001b[1;32m    365\u001b[0m     \u001b[38;5;28;01mfrom\u001b[39;00m \u001b[38;5;21;01mpandas\u001b[39;00m \u001b[38;5;28;01mimport\u001b[39;00m concat\n",
      "File \u001b[0;32m~/Desktop/martin_1/myenv/lib/python3.11/site-packages/pandas/core/groupby/generic.py:249\u001b[0m, in \u001b[0;36mSeriesGroupBy.aggregate\u001b[0;34m(self, func, engine, engine_kwargs, *args, **kwargs)\u001b[0m\n\u001b[1;32m    247\u001b[0m     \u001b[38;5;28;01mif\u001b[39;00m engine_kwargs \u001b[38;5;129;01mis\u001b[39;00m \u001b[38;5;129;01mnot\u001b[39;00m \u001b[38;5;28;01mNone\u001b[39;00m:\n\u001b[1;32m    248\u001b[0m         kwargs[\u001b[38;5;124m\"\u001b[39m\u001b[38;5;124mengine_kwargs\u001b[39m\u001b[38;5;124m\"\u001b[39m] \u001b[38;5;241m=\u001b[39m engine_kwargs\n\u001b[0;32m--> 249\u001b[0m     \u001b[38;5;28;01mreturn\u001b[39;00m \u001b[38;5;28;43mgetattr\u001b[39;49m\u001b[43m(\u001b[49m\u001b[38;5;28;43mself\u001b[39;49m\u001b[43m,\u001b[49m\u001b[43m \u001b[49m\u001b[43mfunc\u001b[49m\u001b[43m)\u001b[49m\u001b[43m(\u001b[49m\u001b[38;5;241;43m*\u001b[39;49m\u001b[43margs\u001b[49m\u001b[43m,\u001b[49m\u001b[43m \u001b[49m\u001b[38;5;241;43m*\u001b[39;49m\u001b[38;5;241;43m*\u001b[39;49m\u001b[43mkwargs\u001b[49m\u001b[43m)\u001b[49m\n\u001b[1;32m    251\u001b[0m \u001b[38;5;28;01melif\u001b[39;00m \u001b[38;5;28misinstance\u001b[39m(func, abc\u001b[38;5;241m.\u001b[39mIterable):\n\u001b[1;32m    252\u001b[0m     \u001b[38;5;66;03m# Catch instances of lists / tuples\u001b[39;00m\n\u001b[1;32m    253\u001b[0m     \u001b[38;5;66;03m# but not the class list / tuple itself.\u001b[39;00m\n\u001b[1;32m    254\u001b[0m     func \u001b[38;5;241m=\u001b[39m maybe_mangle_lambdas(func)\n",
      "File \u001b[0;32m~/Desktop/martin_1/myenv/lib/python3.11/site-packages/pandas/core/groupby/groupby.py:2452\u001b[0m, in \u001b[0;36mGroupBy.mean\u001b[0;34m(self, numeric_only, engine, engine_kwargs)\u001b[0m\n\u001b[1;32m   2445\u001b[0m     \u001b[38;5;28;01mreturn\u001b[39;00m \u001b[38;5;28mself\u001b[39m\u001b[38;5;241m.\u001b[39m_numba_agg_general(\n\u001b[1;32m   2446\u001b[0m         grouped_mean,\n\u001b[1;32m   2447\u001b[0m         executor\u001b[38;5;241m.\u001b[39mfloat_dtype_mapping,\n\u001b[1;32m   2448\u001b[0m         engine_kwargs,\n\u001b[1;32m   2449\u001b[0m         min_periods\u001b[38;5;241m=\u001b[39m\u001b[38;5;241m0\u001b[39m,\n\u001b[1;32m   2450\u001b[0m     )\n\u001b[1;32m   2451\u001b[0m \u001b[38;5;28;01melse\u001b[39;00m:\n\u001b[0;32m-> 2452\u001b[0m     result \u001b[38;5;241m=\u001b[39m \u001b[38;5;28;43mself\u001b[39;49m\u001b[38;5;241;43m.\u001b[39;49m\u001b[43m_cython_agg_general\u001b[49m\u001b[43m(\u001b[49m\n\u001b[1;32m   2453\u001b[0m \u001b[43m        \u001b[49m\u001b[38;5;124;43m\"\u001b[39;49m\u001b[38;5;124;43mmean\u001b[39;49m\u001b[38;5;124;43m\"\u001b[39;49m\u001b[43m,\u001b[49m\n\u001b[1;32m   2454\u001b[0m \u001b[43m        \u001b[49m\u001b[43malt\u001b[49m\u001b[38;5;241;43m=\u001b[39;49m\u001b[38;5;28;43;01mlambda\u001b[39;49;00m\u001b[43m \u001b[49m\u001b[43mx\u001b[49m\u001b[43m:\u001b[49m\u001b[43m \u001b[49m\u001b[43mSeries\u001b[49m\u001b[43m(\u001b[49m\u001b[43mx\u001b[49m\u001b[43m,\u001b[49m\u001b[43m \u001b[49m\u001b[43mcopy\u001b[49m\u001b[38;5;241;43m=\u001b[39;49m\u001b[38;5;28;43;01mFalse\u001b[39;49;00m\u001b[43m)\u001b[49m\u001b[38;5;241;43m.\u001b[39;49m\u001b[43mmean\u001b[49m\u001b[43m(\u001b[49m\u001b[43mnumeric_only\u001b[49m\u001b[38;5;241;43m=\u001b[39;49m\u001b[43mnumeric_only\u001b[49m\u001b[43m)\u001b[49m\u001b[43m,\u001b[49m\n\u001b[1;32m   2455\u001b[0m \u001b[43m        \u001b[49m\u001b[43mnumeric_only\u001b[49m\u001b[38;5;241;43m=\u001b[39;49m\u001b[43mnumeric_only\u001b[49m\u001b[43m,\u001b[49m\n\u001b[1;32m   2456\u001b[0m \u001b[43m    \u001b[49m\u001b[43m)\u001b[49m\n\u001b[1;32m   2457\u001b[0m     \u001b[38;5;28;01mreturn\u001b[39;00m result\u001b[38;5;241m.\u001b[39m__finalize__(\u001b[38;5;28mself\u001b[39m\u001b[38;5;241m.\u001b[39mobj, method\u001b[38;5;241m=\u001b[39m\u001b[38;5;124m\"\u001b[39m\u001b[38;5;124mgroupby\u001b[39m\u001b[38;5;124m\"\u001b[39m)\n",
      "File \u001b[0;32m~/Desktop/martin_1/myenv/lib/python3.11/site-packages/pandas/core/groupby/groupby.py:1998\u001b[0m, in \u001b[0;36mGroupBy._cython_agg_general\u001b[0;34m(self, how, alt, numeric_only, min_count, **kwargs)\u001b[0m\n\u001b[1;32m   1995\u001b[0m     result \u001b[38;5;241m=\u001b[39m \u001b[38;5;28mself\u001b[39m\u001b[38;5;241m.\u001b[39m_agg_py_fallback(how, values, ndim\u001b[38;5;241m=\u001b[39mdata\u001b[38;5;241m.\u001b[39mndim, alt\u001b[38;5;241m=\u001b[39malt)\n\u001b[1;32m   1996\u001b[0m     \u001b[38;5;28;01mreturn\u001b[39;00m result\n\u001b[0;32m-> 1998\u001b[0m new_mgr \u001b[38;5;241m=\u001b[39m \u001b[43mdata\u001b[49m\u001b[38;5;241;43m.\u001b[39;49m\u001b[43mgrouped_reduce\u001b[49m\u001b[43m(\u001b[49m\u001b[43marray_func\u001b[49m\u001b[43m)\u001b[49m\n\u001b[1;32m   1999\u001b[0m res \u001b[38;5;241m=\u001b[39m \u001b[38;5;28mself\u001b[39m\u001b[38;5;241m.\u001b[39m_wrap_agged_manager(new_mgr)\n\u001b[1;32m   2000\u001b[0m \u001b[38;5;28;01mif\u001b[39;00m how \u001b[38;5;129;01min\u001b[39;00m [\u001b[38;5;124m\"\u001b[39m\u001b[38;5;124midxmin\u001b[39m\u001b[38;5;124m\"\u001b[39m, \u001b[38;5;124m\"\u001b[39m\u001b[38;5;124midxmax\u001b[39m\u001b[38;5;124m\"\u001b[39m]:\n",
      "File \u001b[0;32m~/Desktop/martin_1/myenv/lib/python3.11/site-packages/pandas/core/internals/base.py:367\u001b[0m, in \u001b[0;36mSingleDataManager.grouped_reduce\u001b[0;34m(self, func)\u001b[0m\n\u001b[1;32m    365\u001b[0m \u001b[38;5;28;01mdef\u001b[39;00m \u001b[38;5;21mgrouped_reduce\u001b[39m(\u001b[38;5;28mself\u001b[39m, func):\n\u001b[1;32m    366\u001b[0m     arr \u001b[38;5;241m=\u001b[39m \u001b[38;5;28mself\u001b[39m\u001b[38;5;241m.\u001b[39marray\n\u001b[0;32m--> 367\u001b[0m     res \u001b[38;5;241m=\u001b[39m \u001b[43mfunc\u001b[49m\u001b[43m(\u001b[49m\u001b[43marr\u001b[49m\u001b[43m)\u001b[49m\n\u001b[1;32m    368\u001b[0m     index \u001b[38;5;241m=\u001b[39m default_index(\u001b[38;5;28mlen\u001b[39m(res))\n\u001b[1;32m    370\u001b[0m     mgr \u001b[38;5;241m=\u001b[39m \u001b[38;5;28mtype\u001b[39m(\u001b[38;5;28mself\u001b[39m)\u001b[38;5;241m.\u001b[39mfrom_array(res, index)\n",
      "File \u001b[0;32m~/Desktop/martin_1/myenv/lib/python3.11/site-packages/pandas/core/groupby/groupby.py:1995\u001b[0m, in \u001b[0;36mGroupBy._cython_agg_general.<locals>.array_func\u001b[0;34m(values)\u001b[0m\n\u001b[1;32m   1992\u001b[0m     \u001b[38;5;28;01mreturn\u001b[39;00m result\n\u001b[1;32m   1994\u001b[0m \u001b[38;5;28;01massert\u001b[39;00m alt \u001b[38;5;129;01mis\u001b[39;00m \u001b[38;5;129;01mnot\u001b[39;00m \u001b[38;5;28;01mNone\u001b[39;00m\n\u001b[0;32m-> 1995\u001b[0m result \u001b[38;5;241m=\u001b[39m \u001b[38;5;28;43mself\u001b[39;49m\u001b[38;5;241;43m.\u001b[39;49m\u001b[43m_agg_py_fallback\u001b[49m\u001b[43m(\u001b[49m\u001b[43mhow\u001b[49m\u001b[43m,\u001b[49m\u001b[43m \u001b[49m\u001b[43mvalues\u001b[49m\u001b[43m,\u001b[49m\u001b[43m \u001b[49m\u001b[43mndim\u001b[49m\u001b[38;5;241;43m=\u001b[39;49m\u001b[43mdata\u001b[49m\u001b[38;5;241;43m.\u001b[39;49m\u001b[43mndim\u001b[49m\u001b[43m,\u001b[49m\u001b[43m \u001b[49m\u001b[43malt\u001b[49m\u001b[38;5;241;43m=\u001b[39;49m\u001b[43malt\u001b[49m\u001b[43m)\u001b[49m\n\u001b[1;32m   1996\u001b[0m \u001b[38;5;28;01mreturn\u001b[39;00m result\n",
      "File \u001b[0;32m~/Desktop/martin_1/myenv/lib/python3.11/site-packages/pandas/core/groupby/groupby.py:1946\u001b[0m, in \u001b[0;36mGroupBy._agg_py_fallback\u001b[0;34m(self, how, values, ndim, alt)\u001b[0m\n\u001b[1;32m   1944\u001b[0m     msg \u001b[38;5;241m=\u001b[39m \u001b[38;5;124mf\u001b[39m\u001b[38;5;124m\"\u001b[39m\u001b[38;5;124magg function failed [how->\u001b[39m\u001b[38;5;132;01m{\u001b[39;00mhow\u001b[38;5;132;01m}\u001b[39;00m\u001b[38;5;124m,dtype->\u001b[39m\u001b[38;5;132;01m{\u001b[39;00mser\u001b[38;5;241m.\u001b[39mdtype\u001b[38;5;132;01m}\u001b[39;00m\u001b[38;5;124m]\u001b[39m\u001b[38;5;124m\"\u001b[39m\n\u001b[1;32m   1945\u001b[0m     \u001b[38;5;66;03m# preserve the kind of exception that raised\u001b[39;00m\n\u001b[0;32m-> 1946\u001b[0m     \u001b[38;5;28;01mraise\u001b[39;00m \u001b[38;5;28mtype\u001b[39m(err)(msg) \u001b[38;5;28;01mfrom\u001b[39;00m \u001b[38;5;21;01merr\u001b[39;00m\n\u001b[1;32m   1948\u001b[0m \u001b[38;5;28;01mif\u001b[39;00m ser\u001b[38;5;241m.\u001b[39mdtype \u001b[38;5;241m==\u001b[39m \u001b[38;5;28mobject\u001b[39m:\n\u001b[1;32m   1949\u001b[0m     res_values \u001b[38;5;241m=\u001b[39m res_values\u001b[38;5;241m.\u001b[39mastype(\u001b[38;5;28mobject\u001b[39m, copy\u001b[38;5;241m=\u001b[39m\u001b[38;5;28;01mFalse\u001b[39;00m)\n",
      "\u001b[0;31mTypeError\u001b[0m: agg function failed [how->mean,dtype->object]"
     ]
    }
   ],
   "source": [
    "\n",
    "\n",
    "# Assuming 'data' is a DataFrame with columns: 'website', 'sentiment'\n",
    "\n",
    "# Group data by website domain and calculate statistics\n",
    "df_filtered = data_df[data_df['title_sentiment'].notna()]\n",
    "domain_sentiment = df_filtered.groupby('source_name')['title_sentiment'].agg(['mean', 'median', 'var'])\n",
    "\n",
    "# Print descriptive statistics and analyze sentiment distribution for top 10 domains\n",
    "print(domain_sentiment.describe())\n",
    "\n",
    "# Sort by website visitors (replace with your data source)\n",
    "top_10_domains = pd.read_csv('/Users/user/Desktop/martin_1/archive/domains_location.csv')  # Replace with your data source\n",
    "top_10_domains = top_10_domains.head(10)['site']  # Get top 10 domains\n",
    "\n",
    "# Filter data for top 10 domains\n",
    "top_10_data = data_df[data_df['website'].isin(top_10_domains)]\n",
    "\n",
    "# Analyze sentiment distribution for each domain (replace with your data source for global sentiment)\n",
    "for domain in top_10_domains:\n",
    "  domain_data = top_10_data[top_10_data['website'] == domain]\n",
    "  sentiment_counts = domain_data['sentiment'].value_counts().sort_values(ascending=False)\n",
    "  print(f\"Sentiment Distribution for {domain}:\")\n",
    "  print(sentiment_counts)\n",
    "  # Add code here to compare with global sentiment distribution (data source needed)\n"
   ]
  }
 ],
 "metadata": {
  "kernelspec": {
   "display_name": "myenv",
   "language": "python",
   "name": "python3"
  },
  "language_info": {
   "codemirror_mode": {
    "name": "ipython",
    "version": 3
   },
   "file_extension": ".py",
   "mimetype": "text/x-python",
   "name": "python",
   "nbconvert_exporter": "python",
   "pygments_lexer": "ipython3",
   "version": "3.11.7"
  }
 },
 "nbformat": 4,
 "nbformat_minor": 2
}
